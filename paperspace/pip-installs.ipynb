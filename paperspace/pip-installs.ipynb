# 1️⃣  Install the CUDA-12.6 PyTorch stack
!pip install --upgrade pip setuptools wheel
!pip install --no-cache-dir torch==2.7.0 torchvision==0.22.0 torchaudio==2.7.0 --index-url https://download.pytorch.org/whl/cu126

# 2️⃣  Install / update key supporting libraries before requirements.txt
!pip install --upgrade accelerate transformers diffusers huggingface_hub peft pyyaml>=6.0

# 3️⃣  Now install AI-Toolkit’s requirements (skips duplicates already installed)
!pip install -r requirements.txt --extra-index-url https://download.pytorch.org/whl/cu126
